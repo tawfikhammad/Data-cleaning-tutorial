{
 "cells": [
  {
   "cell_type": "code",
   "execution_count": 2,
   "metadata": {},
   "outputs": [
    {
     "data": {
      "text/html": [
       "<pre style=\"white-space:pre;overflow-x:auto;line-height:normal;font-family:Menlo,'DejaVu Sans Mono',consolas,'Courier New',monospace\">╭──────────────────────────────────────────────── skimpy summary ─────────────────────────────────────────────────╮\n",
       "│ <span style=\"font-style: italic\">         Data Summary         </span> <span style=\"font-style: italic\">      Data Types       </span> <span style=\"font-style: italic\">       Categories        </span>                                │\n",
       "│ ┏━━━━━━━━━━━━━━━━━━━┳━━━━━━━━┓ ┏━━━━━━━━━━━━━┳━━━━━━━┓ ┏━━━━━━━━━━━━━━━━━━━━━━━┓                                │\n",
       "│ ┃<span style=\"color: #008080; text-decoration-color: #008080; font-weight: bold\"> dataframe         </span>┃<span style=\"color: #008080; text-decoration-color: #008080; font-weight: bold\"> Values </span>┃ ┃<span style=\"color: #008080; text-decoration-color: #008080; font-weight: bold\"> Column Type </span>┃<span style=\"color: #008080; text-decoration-color: #008080; font-weight: bold\"> Count </span>┃ ┃<span style=\"color: #008080; text-decoration-color: #008080; font-weight: bold\"> Categorical Variables </span>┃                                │\n",
       "│ ┡━━━━━━━━━━━━━━━━━━━╇━━━━━━━━┩ ┡━━━━━━━━━━━━━╇━━━━━━━┩ ┡━━━━━━━━━━━━━━━━━━━━━━━┩                                │\n",
       "│ │ Number of rows    │ 1000   │ │ float64     │ 3     │ │ class                 │                                │\n",
       "│ │ Number of columns │ 13     │ │ category    │ 2     │ │ location              │                                │\n",
       "│ └───────────────────┴────────┘ │ datetime64  │ 2     │ └───────────────────────┘                                │\n",
       "│                                │ object      │ 2     │                                                          │\n",
       "│                                │ int32       │ 1     │                                                          │\n",
       "│                                │ bool        │ 1     │                                                          │\n",
       "│                                │ string      │ 1     │                                                          │\n",
       "│                                │ timedelta64 │ 1     │                                                          │\n",
       "│                                └─────────────┴───────┘                                                          │\n",
       "│ <span style=\"font-style: italic\">                                                    number                                                    </span>  │\n",
       "│ ┏━━━━━━━━━━━━━━┳━━━━━┳━━━━━━┳━━━━━━━━━━┳━━━━━━━━┳━━━━━━━━━━━┳━━━━━━━━━┳━━━━━━━━━━━━┳━━━━━━━━┳━━━━━━━┳━━━━━━━━┓  │\n",
       "│ ┃<span style=\"font-weight: bold\"> column_name  </span>┃<span style=\"font-weight: bold\"> NA  </span>┃<span style=\"font-weight: bold\"> NA % </span>┃<span style=\"font-weight: bold\"> mean     </span>┃<span style=\"font-weight: bold\"> sd     </span>┃<span style=\"font-weight: bold\"> p0        </span>┃<span style=\"font-weight: bold\"> p25     </span>┃<span style=\"font-weight: bold\"> p50        </span>┃<span style=\"font-weight: bold\"> p75    </span>┃<span style=\"font-weight: bold\"> p100  </span>┃<span style=\"font-weight: bold\"> hist   </span>┃  │\n",
       "│ ┡━━━━━━━━━━━━━━╇━━━━━╇━━━━━━╇━━━━━━━━━━╇━━━━━━━━╇━━━━━━━━━━━╇━━━━━━━━━╇━━━━━━━━━━━━╇━━━━━━━━╇━━━━━━━╇━━━━━━━━┩  │\n",
       "│ │ <span style=\"color: #af87ff; text-decoration-color: #af87ff\">length      </span> │ <span style=\"color: #008080; text-decoration-color: #008080\">  0</span> │ <span style=\"color: #008080; text-decoration-color: #008080\">   0</span> │ <span style=\"color: #008080; text-decoration-color: #008080\">  0.5016</span> │ <span style=\"color: #008080; text-decoration-color: #008080\">0.3597</span> │ <span style=\"color: #008080; text-decoration-color: #008080\">1.573e-06</span> │ <span style=\"color: #008080; text-decoration-color: #008080\">  0.134</span> │ <span style=\"color: #008080; text-decoration-color: #008080\">    0.4976</span> │ <span style=\"color: #008080; text-decoration-color: #008080\">0.8602</span> │ <span style=\"color: #008080; text-decoration-color: #008080\">    1</span> │ <span style=\"color: #008000; text-decoration-color: #008000\">▇▃▃▃▅▇</span> │  │\n",
       "│ │ <span style=\"color: #af87ff; text-decoration-color: #af87ff\">width       </span> │ <span style=\"color: #008080; text-decoration-color: #008080\">  0</span> │ <span style=\"color: #008080; text-decoration-color: #008080\">   0</span> │ <span style=\"color: #008080; text-decoration-color: #008080\">   2.037</span> │ <span style=\"color: #008080; text-decoration-color: #008080\"> 1.929</span> │ <span style=\"color: #008080; text-decoration-color: #008080\"> 0.002057</span> │ <span style=\"color: #008080; text-decoration-color: #008080\">  0.603</span> │ <span style=\"color: #008080; text-decoration-color: #008080\">     1.468</span> │ <span style=\"color: #008080; text-decoration-color: #008080\"> 2.953</span> │ <span style=\"color: #008080; text-decoration-color: #008080\">13.91</span> │ <span style=\"color: #008000; text-decoration-color: #008000\"> ▇▃▁  </span> │  │\n",
       "│ │ <span style=\"color: #af87ff; text-decoration-color: #af87ff\">depth       </span> │ <span style=\"color: #008080; text-decoration-color: #008080\">  0</span> │ <span style=\"color: #008080; text-decoration-color: #008080\">   0</span> │ <span style=\"color: #008080; text-decoration-color: #008080\">   10.02</span> │ <span style=\"color: #008080; text-decoration-color: #008080\"> 3.208</span> │ <span style=\"color: #008080; text-decoration-color: #008080\">        2</span> │ <span style=\"color: #008080; text-decoration-color: #008080\">      8</span> │ <span style=\"color: #008080; text-decoration-color: #008080\">        10</span> │ <span style=\"color: #008080; text-decoration-color: #008080\">    12</span> │ <span style=\"color: #008080; text-decoration-color: #008080\">   20</span> │ <span style=\"color: #008000; text-decoration-color: #008000\">▁▃▇▆▃▁</span> │  │\n",
       "│ │ <span style=\"color: #af87ff; text-decoration-color: #af87ff\">rnd         </span> │ <span style=\"color: #008080; text-decoration-color: #008080\">118</span> │ <span style=\"color: #008080; text-decoration-color: #008080\">11.8</span> │ <span style=\"color: #008080; text-decoration-color: #008080\">-0.01977</span> │ <span style=\"color: #008080; text-decoration-color: #008080\"> 1.002</span> │ <span style=\"color: #008080; text-decoration-color: #008080\">   -2.809</span> │ <span style=\"color: #008080; text-decoration-color: #008080\">-0.7355</span> │ <span style=\"color: #008080; text-decoration-color: #008080\">-0.0007736</span> │ <span style=\"color: #008080; text-decoration-color: #008080\">0.6639</span> │ <span style=\"color: #008080; text-decoration-color: #008080\">3.717</span> │ <span style=\"color: #008000; text-decoration-color: #008000\">▁▅▇▅▁ </span> │  │\n",
       "│ └──────────────┴─────┴──────┴──────────┴────────┴───────────┴─────────┴────────────┴────────┴───────┴────────┘  │\n",
       "│ <span style=\"font-style: italic\">                                                   category                                                   </span>  │\n",
       "│ ┏━━━━━━━━━━━━━━━━━━━━━━━━━━━━━━━━━━┳━━━━━━━━━━━┳━━━━━━━━━━━━━━━━┳━━━━━━━━━━━━━━━━━━━━━━━┳━━━━━━━━━━━━━━━━━━━━┓  │\n",
       "│ ┃<span style=\"font-weight: bold\"> column_name                      </span>┃<span style=\"font-weight: bold\"> NA        </span>┃<span style=\"font-weight: bold\"> NA %           </span>┃<span style=\"font-weight: bold\"> ordered               </span>┃<span style=\"font-weight: bold\"> unique             </span>┃  │\n",
       "│ ┡━━━━━━━━━━━━━━━━━━━━━━━━━━━━━━━━━━╇━━━━━━━━━━━╇━━━━━━━━━━━━━━━━╇━━━━━━━━━━━━━━━━━━━━━━━╇━━━━━━━━━━━━━━━━━━━━┩  │\n",
       "│ │ <span style=\"color: #af87ff; text-decoration-color: #af87ff\">class                           </span> │ <span style=\"color: #008080; text-decoration-color: #008080\">        0</span> │ <span style=\"color: #008080; text-decoration-color: #008080\">             0</span> │ <span style=\"color: #00d7ff; text-decoration-color: #00d7ff\">False                </span> │ <span style=\"color: #008080; text-decoration-color: #008080\">                 2</span> │  │\n",
       "│ │ <span style=\"color: #af87ff; text-decoration-color: #af87ff\">location                        </span> │ <span style=\"color: #008080; text-decoration-color: #008080\">        1</span> │ <span style=\"color: #008080; text-decoration-color: #008080\">           0.1</span> │ <span style=\"color: #00d7ff; text-decoration-color: #00d7ff\">False                </span> │ <span style=\"color: #008080; text-decoration-color: #008080\">                 5</span> │  │\n",
       "│ └──────────────────────────────────┴───────────┴────────────────┴───────────────────────┴────────────────────┘  │\n",
       "│ <span style=\"font-style: italic\">                                                     bool                                                     </span>  │\n",
       "│ ┏━━━━━━━━━━━━━━━━━━━━━━━━━━━━━━━━━━━━┳━━━━━━━━━━━━━━━━━┳━━━━━━━━━━━━━━━━━━━━━━━━━━━━━━━┳━━━━━━━━━━━━━━━━━━━━━┓  │\n",
       "│ ┃<span style=\"font-weight: bold\"> column_name                        </span>┃<span style=\"font-weight: bold\"> true            </span>┃<span style=\"font-weight: bold\"> true rate                     </span>┃<span style=\"font-weight: bold\"> hist                </span>┃  │\n",
       "│ ┡━━━━━━━━━━━━━━━━━━━━━━━━━━━━━━━━━━━━╇━━━━━━━━━━━━━━━━━╇━━━━━━━━━━━━━━━━━━━━━━━━━━━━━━━╇━━━━━━━━━━━━━━━━━━━━━┩  │\n",
       "│ │ <span style=\"color: #af87ff; text-decoration-color: #af87ff\">booly_col                         </span> │ <span style=\"color: #008080; text-decoration-color: #008080\">            516</span> │ <span style=\"color: #008080; text-decoration-color: #008080\">                         0.52</span> │ <span style=\"color: #008000; text-decoration-color: #008000\">      ▇    ▇       </span> │  │\n",
       "│ └────────────────────────────────────┴─────────────────┴───────────────────────────────┴─────────────────────┘  │\n",
       "│ <span style=\"font-style: italic\">                                                   datetime                                                   </span>  │\n",
       "│ ┏━━━━━━━━━━━━━━━━━━━━━━━━━━━━━━┳━━━━━━━┳━━━━━━━━━━┳━━━━━━━━━━━━━━━━━━━━┳━━━━━━━━━━━━━━━━━━━┳━━━━━━━━━━━━━━━━━┓  │\n",
       "│ ┃<span style=\"font-weight: bold\"> column_name                  </span>┃<span style=\"font-weight: bold\"> NA    </span>┃<span style=\"font-weight: bold\"> NA %     </span>┃<span style=\"font-weight: bold\"> first              </span>┃<span style=\"font-weight: bold\"> last              </span>┃<span style=\"font-weight: bold\"> frequency       </span>┃  │\n",
       "│ ┡━━━━━━━━━━━━━━━━━━━━━━━━━━━━━━╇━━━━━━━╇━━━━━━━━━━╇━━━━━━━━━━━━━━━━━━━━╇━━━━━━━━━━━━━━━━━━━╇━━━━━━━━━━━━━━━━━┩  │\n",
       "│ │ <span style=\"color: #af87ff; text-decoration-color: #af87ff\">datetime                    </span> │ <span style=\"color: #008080; text-decoration-color: #008080\">    0</span> │ <span style=\"color: #008080; text-decoration-color: #008080\">       0</span> │ <span style=\"color: #800000; text-decoration-color: #800000\">    2018-01-31    </span> │ <span style=\"color: #800000; text-decoration-color: #800000\">   2101-04-30    </span> │ <span style=\"color: #af87ff; text-decoration-color: #af87ff\">ME             </span> │  │\n",
       "│ │ <span style=\"color: #af87ff; text-decoration-color: #af87ff\">datetime_no_freq            </span> │ <span style=\"color: #008080; text-decoration-color: #008080\">    3</span> │ <span style=\"color: #008080; text-decoration-color: #008080\">     0.3</span> │ <span style=\"color: #800000; text-decoration-color: #800000\">    1992-01-05    </span> │ <span style=\"color: #800000; text-decoration-color: #800000\">   2023-03-04    </span> │ <span style=\"color: #af87ff; text-decoration-color: #af87ff\">None           </span> │  │\n",
       "│ └──────────────────────────────┴───────┴──────────┴────────────────────┴───────────────────┴─────────────────┘  │\n",
       "│ <span style=\"font-style: italic\">                                           &lt;class 'datetime.date'&gt;                                            </span>  │\n",
       "│ ┏━━━━━━━━━━━━━━━━━━━━━━━━━━━━━━━━━━┳━━━━━━━┳━━━━━━━━━━┳━━━━━━━━━━━━━━━━━━┳━━━━━━━━━━━━━━━━━━┳━━━━━━━━━━━━━━━━┓  │\n",
       "│ ┃<span style=\"font-weight: bold\"> column_name                      </span>┃<span style=\"font-weight: bold\"> NA    </span>┃<span style=\"font-weight: bold\"> NA %     </span>┃<span style=\"font-weight: bold\"> first            </span>┃<span style=\"font-weight: bold\"> last             </span>┃<span style=\"font-weight: bold\"> frequency      </span>┃  │\n",
       "│ ┡━━━━━━━━━━━━━━━━━━━━━━━━━━━━━━━━━━╇━━━━━━━╇━━━━━━━━━━╇━━━━━━━━━━━━━━━━━━╇━━━━━━━━━━━━━━━━━━╇━━━━━━━━━━━━━━━━┩  │\n",
       "│ │ <span style=\"color: #af87ff; text-decoration-color: #af87ff\">datetime.date                   </span> │ <span style=\"color: #008080; text-decoration-color: #008080\">    0</span> │ <span style=\"color: #008080; text-decoration-color: #008080\">       0</span> │ <span style=\"color: #af87ff; text-decoration-color: #af87ff\">2018-01-31      </span> │ <span style=\"color: #af87ff; text-decoration-color: #af87ff\">2101-04-30      </span> │ <span style=\"color: #af87ff; text-decoration-color: #af87ff\">ME            </span> │  │\n",
       "│ │ <span style=\"color: #af87ff; text-decoration-color: #af87ff\">datetime.date_no_freq           </span> │ <span style=\"color: #008080; text-decoration-color: #008080\">    0</span> │ <span style=\"color: #008080; text-decoration-color: #008080\">       0</span> │ <span style=\"color: #af87ff; text-decoration-color: #af87ff\">1992-01-05      </span> │ <span style=\"color: #af87ff; text-decoration-color: #af87ff\">2023-03-04      </span> │ <span style=\"color: #af87ff; text-decoration-color: #af87ff\">None          </span> │  │\n",
       "│ └──────────────────────────────────┴───────┴──────────┴──────────────────┴──────────────────┴────────────────┘  │\n",
       "│ <span style=\"font-style: italic\">                                                 timedelta64                                                  </span>  │\n",
       "│ ┏━━━━━━━━━━━━━━━━━━┳━━━━━━┳━━━━━━━━━┳━━━━━━━━━━━━━━━━━━━━━━━┳━━━━━━━━━━━━━━━━━━━━━━━┳━━━━━━━━━━━━━━━━━━━━━━━━┓  │\n",
       "│ ┃<span style=\"font-weight: bold\"> column_name      </span>┃<span style=\"font-weight: bold\"> NA   </span>┃<span style=\"font-weight: bold\"> NA %    </span>┃<span style=\"font-weight: bold\"> mean                  </span>┃<span style=\"font-weight: bold\"> median                </span>┃<span style=\"font-weight: bold\"> max                    </span>┃  │\n",
       "│ ┡━━━━━━━━━━━━━━━━━━╇━━━━━━╇━━━━━━━━━╇━━━━━━━━━━━━━━━━━━━━━━━╇━━━━━━━━━━━━━━━━━━━━━━━╇━━━━━━━━━━━━━━━━━━━━━━━━┩  │\n",
       "│ │ <span style=\"color: #af87ff; text-decoration-color: #af87ff\">time diff       </span> │ <span style=\"color: #008080; text-decoration-color: #008080\">   5</span> │ <span style=\"color: #008080; text-decoration-color: #008080\">    0.5</span> │ <span style=\"color: #008080; text-decoration-color: #008080\">      8 days 00:05:47</span> │ <span style=\"color: #008080; text-decoration-color: #008080\">      0 days 00:00:00</span> │ <span style=\"color: #008080; text-decoration-color: #008080\">      26 days 00:00:00</span> │  │\n",
       "│ └──────────────────┴──────┴─────────┴───────────────────────┴───────────────────────┴────────────────────────┘  │\n",
       "│ <span style=\"font-style: italic\">                                                    string                                                    </span>  │\n",
       "│ ┏━━━━━━━━━━━━━━━━━━━━━━━━━━━┳━━━━━━━━━┳━━━━━━━━━━━━┳━━━━━━━━━━━━━━━━━━━━━━━━━━━━━━┳━━━━━━━━━━━━━━━━━━━━━━━━━━┓  │\n",
       "│ ┃<span style=\"font-weight: bold\"> column_name               </span>┃<span style=\"font-weight: bold\"> NA      </span>┃<span style=\"font-weight: bold\"> NA %       </span>┃<span style=\"font-weight: bold\"> words per row                </span>┃<span style=\"font-weight: bold\"> total words              </span>┃  │\n",
       "│ ┡━━━━━━━━━━━━━━━━━━━━━━━━━━━╇━━━━━━━━━╇━━━━━━━━━━━━╇━━━━━━━━━━━━━━━━━━━━━━━━━━━━━━╇━━━━━━━━━━━━━━━━━━━━━━━━━━┩  │\n",
       "│ │ <span style=\"color: #af87ff; text-decoration-color: #af87ff\">text                     </span> │ <span style=\"color: #008080; text-decoration-color: #008080\">      6</span> │ <span style=\"color: #008080; text-decoration-color: #008080\">       0.6</span> │ <span style=\"color: #008080; text-decoration-color: #008080\">                         5.8</span> │ <span style=\"color: #008080; text-decoration-color: #008080\">                    5761</span> │  │\n",
       "│ └───────────────────────────┴─────────┴────────────┴──────────────────────────────┴──────────────────────────┘  │\n",
       "╰────────────────────────────────────────────────────── End ──────────────────────────────────────────────────────╯\n",
       "</pre>\n"
      ],
      "text/plain": [
       "╭──────────────────────────────────────────────── skimpy summary ─────────────────────────────────────────────────╮\n",
       "│ \u001b[3m         Data Summary         \u001b[0m \u001b[3m      Data Types       \u001b[0m \u001b[3m       Categories        \u001b[0m                                │\n",
       "│ ┏━━━━━━━━━━━━━━━━━━━┳━━━━━━━━┓ ┏━━━━━━━━━━━━━┳━━━━━━━┓ ┏━━━━━━━━━━━━━━━━━━━━━━━┓                                │\n",
       "│ ┃\u001b[1;36m \u001b[0m\u001b[1;36mdataframe        \u001b[0m\u001b[1;36m \u001b[0m┃\u001b[1;36m \u001b[0m\u001b[1;36mValues\u001b[0m\u001b[1;36m \u001b[0m┃ ┃\u001b[1;36m \u001b[0m\u001b[1;36mColumn Type\u001b[0m\u001b[1;36m \u001b[0m┃\u001b[1;36m \u001b[0m\u001b[1;36mCount\u001b[0m\u001b[1;36m \u001b[0m┃ ┃\u001b[1;36m \u001b[0m\u001b[1;36mCategorical Variables\u001b[0m\u001b[1;36m \u001b[0m┃                                │\n",
       "│ ┡━━━━━━━━━━━━━━━━━━━╇━━━━━━━━┩ ┡━━━━━━━━━━━━━╇━━━━━━━┩ ┡━━━━━━━━━━━━━━━━━━━━━━━┩                                │\n",
       "│ │ Number of rows    │ 1000   │ │ float64     │ 3     │ │ class                 │                                │\n",
       "│ │ Number of columns │ 13     │ │ category    │ 2     │ │ location              │                                │\n",
       "│ └───────────────────┴────────┘ │ datetime64  │ 2     │ └───────────────────────┘                                │\n",
       "│                                │ object      │ 2     │                                                          │\n",
       "│                                │ int32       │ 1     │                                                          │\n",
       "│                                │ bool        │ 1     │                                                          │\n",
       "│                                │ string      │ 1     │                                                          │\n",
       "│                                │ timedelta64 │ 1     │                                                          │\n",
       "│                                └─────────────┴───────┘                                                          │\n",
       "│ \u001b[3m                                                    number                                                    \u001b[0m  │\n",
       "│ ┏━━━━━━━━━━━━━━┳━━━━━┳━━━━━━┳━━━━━━━━━━┳━━━━━━━━┳━━━━━━━━━━━┳━━━━━━━━━┳━━━━━━━━━━━━┳━━━━━━━━┳━━━━━━━┳━━━━━━━━┓  │\n",
       "│ ┃\u001b[1m \u001b[0m\u001b[1mcolumn_name \u001b[0m\u001b[1m \u001b[0m┃\u001b[1m \u001b[0m\u001b[1mNA \u001b[0m\u001b[1m \u001b[0m┃\u001b[1m \u001b[0m\u001b[1mNA %\u001b[0m\u001b[1m \u001b[0m┃\u001b[1m \u001b[0m\u001b[1mmean    \u001b[0m\u001b[1m \u001b[0m┃\u001b[1m \u001b[0m\u001b[1msd    \u001b[0m\u001b[1m \u001b[0m┃\u001b[1m \u001b[0m\u001b[1mp0       \u001b[0m\u001b[1m \u001b[0m┃\u001b[1m \u001b[0m\u001b[1mp25    \u001b[0m\u001b[1m \u001b[0m┃\u001b[1m \u001b[0m\u001b[1mp50       \u001b[0m\u001b[1m \u001b[0m┃\u001b[1m \u001b[0m\u001b[1mp75   \u001b[0m\u001b[1m \u001b[0m┃\u001b[1m \u001b[0m\u001b[1mp100 \u001b[0m\u001b[1m \u001b[0m┃\u001b[1m \u001b[0m\u001b[1mhist  \u001b[0m\u001b[1m \u001b[0m┃  │\n",
       "│ ┡━━━━━━━━━━━━━━╇━━━━━╇━━━━━━╇━━━━━━━━━━╇━━━━━━━━╇━━━━━━━━━━━╇━━━━━━━━━╇━━━━━━━━━━━━╇━━━━━━━━╇━━━━━━━╇━━━━━━━━┩  │\n",
       "│ │ \u001b[38;5;141mlength      \u001b[0m │ \u001b[36m  0\u001b[0m │ \u001b[36m   0\u001b[0m │ \u001b[36m  0.5016\u001b[0m │ \u001b[36m0.3597\u001b[0m │ \u001b[36m1.573e-06\u001b[0m │ \u001b[36m  0.134\u001b[0m │ \u001b[36m    0.4976\u001b[0m │ \u001b[36m0.8602\u001b[0m │ \u001b[36m    1\u001b[0m │ \u001b[32m▇▃▃▃▅▇\u001b[0m │  │\n",
       "│ │ \u001b[38;5;141mwidth       \u001b[0m │ \u001b[36m  0\u001b[0m │ \u001b[36m   0\u001b[0m │ \u001b[36m   2.037\u001b[0m │ \u001b[36m 1.929\u001b[0m │ \u001b[36m 0.002057\u001b[0m │ \u001b[36m  0.603\u001b[0m │ \u001b[36m     1.468\u001b[0m │ \u001b[36m 2.953\u001b[0m │ \u001b[36m13.91\u001b[0m │ \u001b[32m ▇▃▁  \u001b[0m │  │\n",
       "│ │ \u001b[38;5;141mdepth       \u001b[0m │ \u001b[36m  0\u001b[0m │ \u001b[36m   0\u001b[0m │ \u001b[36m   10.02\u001b[0m │ \u001b[36m 3.208\u001b[0m │ \u001b[36m        2\u001b[0m │ \u001b[36m      8\u001b[0m │ \u001b[36m        10\u001b[0m │ \u001b[36m    12\u001b[0m │ \u001b[36m   20\u001b[0m │ \u001b[32m▁▃▇▆▃▁\u001b[0m │  │\n",
       "│ │ \u001b[38;5;141mrnd         \u001b[0m │ \u001b[36m118\u001b[0m │ \u001b[36m11.8\u001b[0m │ \u001b[36m-0.01977\u001b[0m │ \u001b[36m 1.002\u001b[0m │ \u001b[36m   -2.809\u001b[0m │ \u001b[36m-0.7355\u001b[0m │ \u001b[36m-0.0007736\u001b[0m │ \u001b[36m0.6639\u001b[0m │ \u001b[36m3.717\u001b[0m │ \u001b[32m▁▅▇▅▁ \u001b[0m │  │\n",
       "│ └──────────────┴─────┴──────┴──────────┴────────┴───────────┴─────────┴────────────┴────────┴───────┴────────┘  │\n",
       "│ \u001b[3m                                                   category                                                   \u001b[0m  │\n",
       "│ ┏━━━━━━━━━━━━━━━━━━━━━━━━━━━━━━━━━━┳━━━━━━━━━━━┳━━━━━━━━━━━━━━━━┳━━━━━━━━━━━━━━━━━━━━━━━┳━━━━━━━━━━━━━━━━━━━━┓  │\n",
       "│ ┃\u001b[1m \u001b[0m\u001b[1mcolumn_name                     \u001b[0m\u001b[1m \u001b[0m┃\u001b[1m \u001b[0m\u001b[1mNA       \u001b[0m\u001b[1m \u001b[0m┃\u001b[1m \u001b[0m\u001b[1mNA %          \u001b[0m\u001b[1m \u001b[0m┃\u001b[1m \u001b[0m\u001b[1mordered              \u001b[0m\u001b[1m \u001b[0m┃\u001b[1m \u001b[0m\u001b[1munique            \u001b[0m\u001b[1m \u001b[0m┃  │\n",
       "│ ┡━━━━━━━━━━━━━━━━━━━━━━━━━━━━━━━━━━╇━━━━━━━━━━━╇━━━━━━━━━━━━━━━━╇━━━━━━━━━━━━━━━━━━━━━━━╇━━━━━━━━━━━━━━━━━━━━┩  │\n",
       "│ │ \u001b[38;5;141mclass                           \u001b[0m │ \u001b[36m        0\u001b[0m │ \u001b[36m             0\u001b[0m │ \u001b[38;5;45mFalse                \u001b[0m │ \u001b[36m                 2\u001b[0m │  │\n",
       "│ │ \u001b[38;5;141mlocation                        \u001b[0m │ \u001b[36m        1\u001b[0m │ \u001b[36m           0.1\u001b[0m │ \u001b[38;5;45mFalse                \u001b[0m │ \u001b[36m                 5\u001b[0m │  │\n",
       "│ └──────────────────────────────────┴───────────┴────────────────┴───────────────────────┴────────────────────┘  │\n",
       "│ \u001b[3m                                                     bool                                                     \u001b[0m  │\n",
       "│ ┏━━━━━━━━━━━━━━━━━━━━━━━━━━━━━━━━━━━━┳━━━━━━━━━━━━━━━━━┳━━━━━━━━━━━━━━━━━━━━━━━━━━━━━━━┳━━━━━━━━━━━━━━━━━━━━━┓  │\n",
       "│ ┃\u001b[1m \u001b[0m\u001b[1mcolumn_name                       \u001b[0m\u001b[1m \u001b[0m┃\u001b[1m \u001b[0m\u001b[1mtrue           \u001b[0m\u001b[1m \u001b[0m┃\u001b[1m \u001b[0m\u001b[1mtrue rate                    \u001b[0m\u001b[1m \u001b[0m┃\u001b[1m \u001b[0m\u001b[1mhist               \u001b[0m\u001b[1m \u001b[0m┃  │\n",
       "│ ┡━━━━━━━━━━━━━━━━━━━━━━━━━━━━━━━━━━━━╇━━━━━━━━━━━━━━━━━╇━━━━━━━━━━━━━━━━━━━━━━━━━━━━━━━╇━━━━━━━━━━━━━━━━━━━━━┩  │\n",
       "│ │ \u001b[38;5;141mbooly_col                         \u001b[0m │ \u001b[36m            516\u001b[0m │ \u001b[36m                         0.52\u001b[0m │ \u001b[32m      ▇    ▇       \u001b[0m │  │\n",
       "│ └────────────────────────────────────┴─────────────────┴───────────────────────────────┴─────────────────────┘  │\n",
       "│ \u001b[3m                                                   datetime                                                   \u001b[0m  │\n",
       "│ ┏━━━━━━━━━━━━━━━━━━━━━━━━━━━━━━┳━━━━━━━┳━━━━━━━━━━┳━━━━━━━━━━━━━━━━━━━━┳━━━━━━━━━━━━━━━━━━━┳━━━━━━━━━━━━━━━━━┓  │\n",
       "│ ┃\u001b[1m \u001b[0m\u001b[1mcolumn_name                 \u001b[0m\u001b[1m \u001b[0m┃\u001b[1m \u001b[0m\u001b[1mNA   \u001b[0m\u001b[1m \u001b[0m┃\u001b[1m \u001b[0m\u001b[1mNA %    \u001b[0m\u001b[1m \u001b[0m┃\u001b[1m \u001b[0m\u001b[1mfirst             \u001b[0m\u001b[1m \u001b[0m┃\u001b[1m \u001b[0m\u001b[1mlast             \u001b[0m\u001b[1m \u001b[0m┃\u001b[1m \u001b[0m\u001b[1mfrequency      \u001b[0m\u001b[1m \u001b[0m┃  │\n",
       "│ ┡━━━━━━━━━━━━━━━━━━━━━━━━━━━━━━╇━━━━━━━╇━━━━━━━━━━╇━━━━━━━━━━━━━━━━━━━━╇━━━━━━━━━━━━━━━━━━━╇━━━━━━━━━━━━━━━━━┩  │\n",
       "│ │ \u001b[38;5;141mdatetime                    \u001b[0m │ \u001b[36m    0\u001b[0m │ \u001b[36m       0\u001b[0m │ \u001b[31m    2018-01-31    \u001b[0m │ \u001b[31m   2101-04-30    \u001b[0m │ \u001b[38;5;141mME             \u001b[0m │  │\n",
       "│ │ \u001b[38;5;141mdatetime_no_freq            \u001b[0m │ \u001b[36m    3\u001b[0m │ \u001b[36m     0.3\u001b[0m │ \u001b[31m    1992-01-05    \u001b[0m │ \u001b[31m   2023-03-04    \u001b[0m │ \u001b[38;5;141mNone           \u001b[0m │  │\n",
       "│ └──────────────────────────────┴───────┴──────────┴────────────────────┴───────────────────┴─────────────────┘  │\n",
       "│ \u001b[3m                                           <class 'datetime.date'>                                            \u001b[0m  │\n",
       "│ ┏━━━━━━━━━━━━━━━━━━━━━━━━━━━━━━━━━━┳━━━━━━━┳━━━━━━━━━━┳━━━━━━━━━━━━━━━━━━┳━━━━━━━━━━━━━━━━━━┳━━━━━━━━━━━━━━━━┓  │\n",
       "│ ┃\u001b[1m \u001b[0m\u001b[1mcolumn_name                     \u001b[0m\u001b[1m \u001b[0m┃\u001b[1m \u001b[0m\u001b[1mNA   \u001b[0m\u001b[1m \u001b[0m┃\u001b[1m \u001b[0m\u001b[1mNA %    \u001b[0m\u001b[1m \u001b[0m┃\u001b[1m \u001b[0m\u001b[1mfirst           \u001b[0m\u001b[1m \u001b[0m┃\u001b[1m \u001b[0m\u001b[1mlast            \u001b[0m\u001b[1m \u001b[0m┃\u001b[1m \u001b[0m\u001b[1mfrequency     \u001b[0m\u001b[1m \u001b[0m┃  │\n",
       "│ ┡━━━━━━━━━━━━━━━━━━━━━━━━━━━━━━━━━━╇━━━━━━━╇━━━━━━━━━━╇━━━━━━━━━━━━━━━━━━╇━━━━━━━━━━━━━━━━━━╇━━━━━━━━━━━━━━━━┩  │\n",
       "│ │ \u001b[38;5;141mdatetime.date                   \u001b[0m │ \u001b[36m    0\u001b[0m │ \u001b[36m       0\u001b[0m │ \u001b[38;5;141m2018-01-31      \u001b[0m │ \u001b[38;5;141m2101-04-30      \u001b[0m │ \u001b[38;5;141mME            \u001b[0m │  │\n",
       "│ │ \u001b[38;5;141mdatetime.date_no_freq           \u001b[0m │ \u001b[36m    0\u001b[0m │ \u001b[36m       0\u001b[0m │ \u001b[38;5;141m1992-01-05      \u001b[0m │ \u001b[38;5;141m2023-03-04      \u001b[0m │ \u001b[38;5;141mNone          \u001b[0m │  │\n",
       "│ └──────────────────────────────────┴───────┴──────────┴──────────────────┴──────────────────┴────────────────┘  │\n",
       "│ \u001b[3m                                                 timedelta64\u001b[0m\u001b[3m                                                  \u001b[0m  │\n",
       "│ ┏━━━━━━━━━━━━━━━━━━┳━━━━━━┳━━━━━━━━━┳━━━━━━━━━━━━━━━━━━━━━━━┳━━━━━━━━━━━━━━━━━━━━━━━┳━━━━━━━━━━━━━━━━━━━━━━━━┓  │\n",
       "│ ┃\u001b[1m \u001b[0m\u001b[1mcolumn_name     \u001b[0m\u001b[1m \u001b[0m┃\u001b[1m \u001b[0m\u001b[1mNA  \u001b[0m\u001b[1m \u001b[0m┃\u001b[1m \u001b[0m\u001b[1mNA %   \u001b[0m\u001b[1m \u001b[0m┃\u001b[1m \u001b[0m\u001b[1mmean                 \u001b[0m\u001b[1m \u001b[0m┃\u001b[1m \u001b[0m\u001b[1mmedian               \u001b[0m\u001b[1m \u001b[0m┃\u001b[1m \u001b[0m\u001b[1mmax                   \u001b[0m\u001b[1m \u001b[0m┃  │\n",
       "│ ┡━━━━━━━━━━━━━━━━━━╇━━━━━━╇━━━━━━━━━╇━━━━━━━━━━━━━━━━━━━━━━━╇━━━━━━━━━━━━━━━━━━━━━━━╇━━━━━━━━━━━━━━━━━━━━━━━━┩  │\n",
       "│ │ \u001b[38;5;141mtime diff       \u001b[0m │ \u001b[36m   5\u001b[0m │ \u001b[36m    0.5\u001b[0m │ \u001b[36m      8 days 00:05:47\u001b[0m │ \u001b[36m      0 days 00:00:00\u001b[0m │ \u001b[36m      26 days 00:00:00\u001b[0m │  │\n",
       "│ └──────────────────┴──────┴─────────┴───────────────────────┴───────────────────────┴────────────────────────┘  │\n",
       "│ \u001b[3m                                                    string                                                    \u001b[0m  │\n",
       "│ ┏━━━━━━━━━━━━━━━━━━━━━━━━━━━┳━━━━━━━━━┳━━━━━━━━━━━━┳━━━━━━━━━━━━━━━━━━━━━━━━━━━━━━┳━━━━━━━━━━━━━━━━━━━━━━━━━━┓  │\n",
       "│ ┃\u001b[1m \u001b[0m\u001b[1mcolumn_name              \u001b[0m\u001b[1m \u001b[0m┃\u001b[1m \u001b[0m\u001b[1mNA     \u001b[0m\u001b[1m \u001b[0m┃\u001b[1m \u001b[0m\u001b[1mNA %      \u001b[0m\u001b[1m \u001b[0m┃\u001b[1m \u001b[0m\u001b[1mwords per row               \u001b[0m\u001b[1m \u001b[0m┃\u001b[1m \u001b[0m\u001b[1mtotal words             \u001b[0m\u001b[1m \u001b[0m┃  │\n",
       "│ ┡━━━━━━━━━━━━━━━━━━━━━━━━━━━╇━━━━━━━━━╇━━━━━━━━━━━━╇━━━━━━━━━━━━━━━━━━━━━━━━━━━━━━╇━━━━━━━━━━━━━━━━━━━━━━━━━━┩  │\n",
       "│ │ \u001b[38;5;141mtext                     \u001b[0m │ \u001b[36m      6\u001b[0m │ \u001b[36m       0.6\u001b[0m │ \u001b[36m                         5.8\u001b[0m │ \u001b[36m                    5761\u001b[0m │  │\n",
       "│ └───────────────────────────┴─────────┴────────────┴──────────────────────────────┴──────────────────────────┘  │\n",
       "╰────────────────────────────────────────────────────── End ──────────────────────────────────────────────────────╯\n"
      ]
     },
     "metadata": {},
     "output_type": "display_data"
    }
   ],
   "source": [
    "from skimpy import generate_test_data, skim\n",
    "\n",
    "df = generate_test_data()\n",
    "skim(df)"
   ]
  },
  {
   "cell_type": "markdown",
   "metadata": {},
   "source": [
    "### Cleaning Column Names\n",
    "\n",
    "`skimpy` also comes with a function to clean up column names. "
   ]
  },
  {
   "cell_type": "code",
   "execution_count": 4,
   "metadata": {},
   "outputs": [],
   "source": [
    "import pandas as pd\n",
    "from rich import print\n",
    "from skimpy import clean_columns\n",
    "\n",
    "columns = [\n",
    "    \"bs lncs;n edbn \",\n",
    "    \"Nín hǎo. Wǒ shì zhōng guó rén\",\n",
    "    \"___This is a test___\",\n",
    "    \"ÜBER Über German Umlaut\",\n",
    "]\n"
   ]
  },
  {
   "cell_type": "code",
   "execution_count": 5,
   "metadata": {},
   "outputs": [
    {
     "data": {
      "text/html": [
       "<pre style=\"white-space:pre;overflow-x:auto;line-height:normal;font-family:Menlo,'DejaVu Sans Mono',consolas,'Courier New',monospace\">Column names:\n",
       "</pre>\n"
      ],
      "text/plain": [
       "Column names:\n"
      ]
     },
     "metadata": {},
     "output_type": "display_data"
    },
    {
     "data": {
      "text/html": [
       "<pre style=\"white-space:pre;overflow-x:auto;line-height:normal;font-family:Menlo,'DejaVu Sans Mono',consolas,'Courier New',monospace\"><span style=\"font-weight: bold\">[</span><span style=\"color: #008000; text-decoration-color: #008000\">'bs lncs;n edbn '</span>, <span style=\"color: #008000; text-decoration-color: #008000\">'Nín hǎo. Wǒ shì zhōng guó rén'</span>, <span style=\"color: #008000; text-decoration-color: #008000\">'___This is a test___'</span>, <span style=\"color: #008000; text-decoration-color: #008000\">'ÜBER Über German Umlaut'</span><span style=\"font-weight: bold\">]</span>\n",
       "</pre>\n"
      ],
      "text/plain": [
       "\u001b[1m[\u001b[0m\u001b[32m'bs lncs;n edbn '\u001b[0m, \u001b[32m'Nín hǎo. Wǒ shì zhōng guó rén'\u001b[0m, \u001b[32m'___This is a test___'\u001b[0m, \u001b[32m'ÜBER Über German Umlaut'\u001b[0m\u001b[1m]\u001b[0m\n"
      ]
     },
     "metadata": {},
     "output_type": "display_data"
    }
   ],
   "source": [
    "messy_df = pd.DataFrame(columns=columns, index=[0], data=[range(len(columns))])\n",
    "print(\"Column names:\")\n",
    "print(list(messy_df.columns))"
   ]
  },
  {
   "cell_type": "code",
   "execution_count": 6,
   "metadata": {},
   "outputs": [
    {
     "data": {
      "text/html": [
       "<pre style=\"white-space:pre;overflow-x:auto;line-height:normal;font-family:Menlo,'DejaVu Sans Mono',consolas,'Courier New',monospace\"><span style=\"font-weight: bold\">[</span><span style=\"color: #008000; text-decoration-color: #008000\">'bs_lncs_n_edbn'</span>, <span style=\"color: #008000; text-decoration-color: #008000\">'nin_hao_wo_shi_zhong_guo_ren'</span>, <span style=\"color: #008000; text-decoration-color: #008000\">'this_is_a_test'</span>, <span style=\"color: #008000; text-decoration-color: #008000\">'uber_uber_german_umlaut'</span><span style=\"font-weight: bold\">]</span>\n",
       "</pre>\n"
      ],
      "text/plain": [
       "\u001b[1m[\u001b[0m\u001b[32m'bs_lncs_n_edbn'\u001b[0m, \u001b[32m'nin_hao_wo_shi_zhong_guo_ren'\u001b[0m, \u001b[32m'this_is_a_test'\u001b[0m, \u001b[32m'uber_uber_german_umlaut'\u001b[0m\u001b[1m]\u001b[0m\n"
      ]
     },
     "metadata": {},
     "output_type": "display_data"
    }
   ],
   "source": [
    "clean_df = clean_columns(messy_df)\n",
    "print(list(clean_df.columns))"
   ]
  }
 ],
 "metadata": {
  "kernelspec": {
   "display_name": "base",
   "language": "python",
   "name": "python3"
  },
  "language_info": {
   "codemirror_mode": {
    "name": "ipython",
    "version": 3
   },
   "file_extension": ".py",
   "mimetype": "text/x-python",
   "name": "python",
   "nbconvert_exporter": "python",
   "pygments_lexer": "ipython3",
   "version": "3.12.4"
  }
 },
 "nbformat": 4,
 "nbformat_minor": 2
}
